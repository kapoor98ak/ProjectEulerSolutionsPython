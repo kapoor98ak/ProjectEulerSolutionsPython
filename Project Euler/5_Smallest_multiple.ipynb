{
 "cells": [
  {
   "cell_type": "code",
   "execution_count": 22,
   "metadata": {},
   "outputs": [
    {
     "name": "stdout",
     "output_type": "stream",
     "text": [
      "Enter num20\n"
     ]
    }
   ],
   "source": [
    "num = int(input(\"Enter num\"))"
   ]
  },
  {
   "cell_type": "code",
   "execution_count": 23,
   "metadata": {},
   "outputs": [
    {
     "name": "stdout",
     "output_type": "stream",
     "text": [
      "232792560\n"
     ]
    }
   ],
   "source": [
    "prod=1\n",
    "for i in range(1,num+1):\n",
    "    # print(\"i= \",i, \" prod = \", prod)\n",
    "    if (prod%i==0):\n",
    "        # print(\"    \", prod, \" is divisible by, \", i, \"Continue\")\n",
    "        continue\n",
    "    else:\n",
    "        # print(\"    \", prod, \" is NOT divisible by, \", i, \"Checking\")\n",
    "        for j in range(2,i+i):\n",
    "            if (prod*j)%i==0:\n",
    "                prod=prod*j\n",
    "                # print(\"        \", prod, \" is now divisible by, \", j, \"Continue\")\n",
    "                break\n",
    "            else:\n",
    "                # print(\"        \", prod, \" is STILL NOT divisible by, \", j, \"Checking...\")\n",
    "                continue\n",
    "print(prod)    "
   ]
  },
  {
   "cell_type": "markdown",
   "metadata": {},
   "source": [
    "\n",
    "#### Correct"
   ]
  },
  {
   "cell_type": "markdown",
   "metadata": {},
   "source": [
    "Logic:\n",
    "Let's say I want the smallest number that is divisible by every other number from 1 to 5\n",
    "\n",
    "so, I'll start with prod = 1\n",
    "\n",
    "Loop, 1 from 1 to 5\n",
    "\n",
    "Check if prod is divisible by 1?\n",
    "\n",
    "Yes, move on\n",
    "\n",
    "prod divisible by 2?\n",
    "\n",
    "No, so, Loop j from 2 to i\n",
    "\n",
    "and check if prod* 2 is divisible by 2\n",
    "\n",
    "Yes?\n",
    "\n",
    "Cool\n",
    "\n",
    "Move on to 3,then 4 and then 5\n",
    "\n",
    "now, prod is 12\n",
    "\n",
    "12 / 5?\n",
    "\n",
    "No\n",
    "\n",
    "12*2 / 5 ?\n",
    "\n",
    "No\n",
    "\n",
    "12*3 ?\n",
    "\n",
    "No\n",
    "\n",
    "12*4?\n",
    "\n",
    "No\n",
    "\n",
    "12*5? \n",
    "\n",
    "Yes so, now prod is  12*5 - 60\n",
    "\n"
   ]
  },
  {
   "cell_type": "code",
   "execution_count": null,
   "metadata": {},
   "outputs": [],
   "source": []
  }
 ],
 "metadata": {
  "kernelspec": {
   "display_name": "Python 3",
   "language": "python",
   "name": "python3"
  },
  "language_info": {
   "codemirror_mode": {
    "name": "ipython",
    "version": 3
   },
   "file_extension": ".py",
   "mimetype": "text/x-python",
   "name": "python",
   "nbconvert_exporter": "python",
   "pygments_lexer": "ipython3",
   "version": "3.8.5"
  }
 },
 "nbformat": 4,
 "nbformat_minor": 4
}
