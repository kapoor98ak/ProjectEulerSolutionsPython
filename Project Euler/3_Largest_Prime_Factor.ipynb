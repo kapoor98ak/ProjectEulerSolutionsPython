{
 "cells": [
  {
   "cell_type": "code",
   "execution_count": 145,
   "metadata": {},
   "outputs": [],
   "source": [
    "def prime_factors(num):\n",
    "    # defines the logic for giving out the list with all the primes\n",
    "    return num"
   ]
  },
  {
   "cell_type": "code",
   "execution_count": 146,
   "metadata": {},
   "outputs": [
    {
     "name": "stdout",
     "output_type": "stream",
     "text": [
      "Enter the number600851475143\n",
      "600851475143\n"
     ]
    }
   ],
   "source": [
    "num = int(input(\"Enter the number\"))\n",
    "print(num)"
   ]
  },
  {
   "cell_type": "code",
   "execution_count": 147,
   "metadata": {},
   "outputs": [
    {
     "name": "stdout",
     "output_type": "stream",
     "text": [
      "600851475143\n"
     ]
    }
   ],
   "source": [
    "factors=prime_factors(num)\n",
    "print(factors)"
   ]
  },
  {
   "cell_type": "code",
   "execution_count": 148,
   "metadata": {},
   "outputs": [],
   "source": [
    "import math"
   ]
  },
  {
   "cell_type": "code",
   "execution_count": 149,
   "metadata": {},
   "outputs": [
    {
     "name": "stdout",
     "output_type": "stream",
     "text": [
      "775146.0992245268\n"
     ]
    }
   ],
   "source": [
    "sqrt=math.sqrt(num)\n",
    "print(sqrt)"
   ]
  },
  {
   "cell_type": "code",
   "execution_count": 150,
   "metadata": {},
   "outputs": [
    {
     "data": {
      "text/plain": [
       "False"
      ]
     },
     "execution_count": 150,
     "metadata": {},
     "output_type": "execute_result"
    }
   ],
   "source": [
    "num%sqrt==0"
   ]
  },
  {
   "cell_type": "code",
   "execution_count": 151,
   "metadata": {},
   "outputs": [],
   "source": [
    "# basic solution\n",
    "# print(int(sqrt)"
   ]
  },
  {
   "cell_type": "code",
   "execution_count": 154,
   "metadata": {},
   "outputs": [
    {
     "name": "stdout",
     "output_type": "stream",
     "text": [
      "71 Prime Factor Found\n",
      "8462696833.0\n",
      "839 Prime Factor Found\n",
      "716151937.0\n",
      "1471 Prime Factor Found\n",
      "408464633.0\n",
      "6857 Prime Factor Found\n",
      "87625999.0\n",
      "6857\n",
      "0.2637369632720947\n"
     ]
    }
   ],
   "source": [
    "import time\n",
    "\n",
    "begin = time.time()\n",
    "maxfac=1\n",
    "#clue:\n",
    "# 25 factors\n",
    "# 1,25 <- biggest factor\n",
    "# 5,5 <- 2nd biggest factor, check it for prime\n",
    "\n",
    "for i in range(2, (int(sqrt))+1):\n",
    "    # like if you want to check 49's biggest factor, you only check till its root,7, because the the 2nd factor \n",
    "    # in the factor pair will handle the factors present in the range squareroot to the number like 8 to 49.\n",
    "    # so check from 2 to sqrt +1 bacause range function will only chekc till sqrt that way as it sees the numbers \n",
    "    # lower limit to upper limit - 1\n",
    "    \n",
    "    if num%i==0:\n",
    "        #print(i)\n",
    "        #it is a factor\n",
    "        if isprime(i)==True:\n",
    "            #Factor is prime\n",
    "            print(i, \"Prime Factor Found\")\n",
    "            otherfac = num/i\n",
    "            print(otherfac)\n",
    "            maxfac = max(maxfac, i)\n",
    "            if isprime(otherfac)==True:\n",
    "                maxfac = int(max(maxfac, i, otherfac))\n",
    "print(maxfac)\n",
    "end = time.time()\n",
    "print(end-begin)"
   ]
  },
  {
   "cell_type": "code",
   "execution_count": 144,
   "metadata": {},
   "outputs": [],
   "source": [
    "def isprime(x):\n",
    "    for i in range(2, int(math.sqrt(x))+1):\n",
    "        #print(i)\n",
    "        if x%i==0:\n",
    "            return False          \n",
    "    return True"
   ]
  },
  {
   "cell_type": "code",
   "execution_count": 102,
   "metadata": {},
   "outputs": [
    {
     "data": {
      "text/plain": [
       "False"
      ]
     },
     "execution_count": 102,
     "metadata": {},
     "output_type": "execute_result"
    }
   ],
   "source": [
    "isprime(4)"
   ]
  },
  {
   "cell_type": "code",
   "execution_count": 103,
   "metadata": {},
   "outputs": [
    {
     "name": "stdout",
     "output_type": "stream",
     "text": [
      "2\n",
      "3\n",
      "4\n",
      "5\n",
      "6\n",
      "7\n",
      "8\n",
      "9\n"
     ]
    }
   ],
   "source": [
    "for i in range(2,10):\n",
    "    print(i)"
   ]
  },
  {
   "cell_type": "markdown",
   "metadata": {},
   "source": [
    "## Fucking proud of myself!!!!!!!"
   ]
  },
  {
   "cell_type": "code",
   "execution_count": null,
   "metadata": {},
   "outputs": [],
   "source": []
  }
 ],
 "metadata": {
  "kernelspec": {
   "display_name": "Python 3",
   "language": "python",
   "name": "python3"
  },
  "language_info": {
   "codemirror_mode": {
    "name": "ipython",
    "version": 3
   },
   "file_extension": ".py",
   "mimetype": "text/x-python",
   "name": "python",
   "nbconvert_exporter": "python",
   "pygments_lexer": "ipython3",
   "version": "3.8.5"
  }
 },
 "nbformat": 4,
 "nbformat_minor": 4
}
