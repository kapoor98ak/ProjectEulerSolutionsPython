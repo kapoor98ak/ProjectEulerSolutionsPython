{
 "cells": [
  {
   "cell_type": "code",
   "execution_count": 4,
   "metadata": {},
   "outputs": [
    {
     "name": "stdout",
     "output_type": "stream",
     "text": [
      "Requirement already up-to-date: eulerlib in c:\\users\\kapoo\\anaconda3\\lib\\site-packages (0.2)\n"
     ]
    }
   ],
   "source": [
    "!pip install --upgrade eulerlib"
   ]
  },
  {
   "cell_type": "code",
   "execution_count": 4,
   "metadata": {},
   "outputs": [],
   "source": [
    "def isprime(x):\n",
    "    for i in range(2, int(math.sqrt(x))+1):\n",
    "        #print(i)\n",
    "        if x%i==0:\n",
    "            return False          \n",
    "    return True"
   ]
  },
  {
   "cell_type": "code",
   "execution_count": 22,
   "metadata": {},
   "outputs": [
    {
     "name": "stdout",
     "output_type": "stream",
     "text": [
      "997   997\n",
      "Sum = 997  and Maxsum updated to  997\n"
     ]
    }
   ],
   "source": [
    "maxsum=0\n",
    "sum=0\n",
    "import math\n",
    "for i in range(1000, 1, -1):\n",
    "    if(isprime(i)==True):\n",
    "        sum=sum+i\n",
    "        if (sum>1000):\n",
    "            break\n",
    "        print(i, \" \", sum)\n",
    "        if(isprime(sum)==True):\n",
    "            maxsum = max(maxsum,sum)\n",
    "            print(\"Sum =\", sum, \" and Maxsum updated to \", maxsum)"
   ]
  },
  {
   "cell_type": "code",
   "execution_count": 17,
   "metadata": {},
   "outputs": [
    {
     "name": "stdout",
     "output_type": "stream",
     "text": [
      "281\n"
     ]
    }
   ],
   "source": [
    "print(maxsum)"
   ]
  },
  {
   "cell_type": "code",
   "execution_count": 21,
   "metadata": {},
   "outputs": [
    {
     "name": "stdout",
     "output_type": "stream",
     "text": [
      "10\n",
      "9\n",
      "8\n",
      "7\n",
      "6\n",
      "5\n",
      "4\n",
      "3\n",
      "2\n",
      "1\n"
     ]
    }
   ],
   "source": [
    "for i in range(10, 0, -1):\n",
    "    print(i)"
   ]
  },
  {
   "cell_type": "code",
   "execution_count": null,
   "metadata": {},
   "outputs": [],
   "source": []
  }
 ],
 "metadata": {
  "kernelspec": {
   "display_name": "Python 3",
   "language": "python",
   "name": "python3"
  },
  "language_info": {
   "codemirror_mode": {
    "name": "ipython",
    "version": 3
   },
   "file_extension": ".py",
   "mimetype": "text/x-python",
   "name": "python",
   "nbconvert_exporter": "python",
   "pygments_lexer": "ipython3",
   "version": "3.8.5"
  }
 },
 "nbformat": 4,
 "nbformat_minor": 4
}
