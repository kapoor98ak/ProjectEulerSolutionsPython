{
 "cells": [
  {
   "cell_type": "code",
   "execution_count": 5,
   "metadata": {},
   "outputs": [],
   "source": [
    "def isprime(x):\n",
    "    import math\n",
    "    for i in range(2, int(math.sqrt(x))+1):\n",
    "        #print(i)\n",
    "        if x%i==0:\n",
    "            return False          \n",
    "    return True"
   ]
  },
  {
   "cell_type": "code",
   "execution_count": 33,
   "metadata": {},
   "outputs": [
    {
     "name": "stdout",
     "output_type": "stream",
     "text": [
      "Enter num:10001\n"
     ]
    }
   ],
   "source": [
    "num=int(input(\"Enter num:\"))"
   ]
  },
  {
   "cell_type": "code",
   "execution_count": 34,
   "metadata": {},
   "outputs": [
    {
     "name": "stdout",
     "output_type": "stream",
     "text": [
      "104743\n"
     ]
    }
   ],
   "source": [
    "m=99999999\n",
    "counter=6\n",
    "ans=0\n",
    "for i in range(2, m):\n",
    "    if i%2==0 or i%3==0 or i%5==0 or i%7==0 or i%11==0 or i%13==0:\n",
    "        # print(i, \" Not a prime, moving on!\")\n",
    "        continue\n",
    "    else:\n",
    "        # print(i, \"Maybe!\")\n",
    "        if isprime(i):\n",
    "            # print(\"Found a prime, \", i)\n",
    "            counter = counter+1\n",
    "        else:\n",
    "            # print(\"Not a prime, moving on!\")\n",
    "            continue\n",
    "    if counter<num:\n",
    "        continue\n",
    "    else:\n",
    "        ans=i        \n",
    "        break\n",
    "\n",
    "print(ans)"
   ]
  },
  {
   "cell_type": "code",
   "execution_count": null,
   "metadata": {},
   "outputs": [],
   "source": []
  },
  {
   "cell_type": "code",
   "execution_count": null,
   "metadata": {},
   "outputs": [],
   "source": []
  }
 ],
 "metadata": {
  "kernelspec": {
   "display_name": "Python 3",
   "language": "python",
   "name": "python3"
  },
  "language_info": {
   "codemirror_mode": {
    "name": "ipython",
    "version": 3
   },
   "file_extension": ".py",
   "mimetype": "text/x-python",
   "name": "python",
   "nbconvert_exporter": "python",
   "pygments_lexer": "ipython3",
   "version": "3.8.5"
  }
 },
 "nbformat": 4,
 "nbformat_minor": 4
}
